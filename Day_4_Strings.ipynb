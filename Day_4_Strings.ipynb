{
  "nbformat": 4,
  "nbformat_minor": 0,
  "metadata": {
    "colab": {
      "provenance": []
    },
    "kernelspec": {
      "name": "python3",
      "display_name": "Python 3"
    },
    "language_info": {
      "name": "python"
    }
  },
  "cells": [
    {
      "cell_type": "markdown",
      "source": [
        "# Strings\n"
      ],
      "metadata": {
        "id": "peZH77HeSG_N"
      }
    },
    {
      "cell_type": "code",
      "execution_count": null,
      "metadata": {
        "colab": {
          "base_uri": "https://localhost:8080/"
        },
        "id": "O21DgBB9R_O6",
        "outputId": "1ecd6bae-bb68-4a98-9929-64e619607281"
      },
      "outputs": [
        {
          "output_type": "stream",
          "name": "stdout",
          "text": [
            "krishkoli\n"
          ]
        }
      ],
      "source": [
        "#Concatinate\n",
        "print(\"krish\"+\"koli\")\n"
      ]
    },
    {
      "cell_type": "code",
      "source": [
        "#replicate = multiply number for string u want\n",
        "print(\"krish\"*12)"
      ],
      "metadata": {
        "colab": {
          "base_uri": "https://localhost:8080/"
        },
        "id": "1sHerLWsSbiK",
        "outputId": "0a3d6ec3-8122-42fe-c320-3bf6bff83193"
      },
      "execution_count": null,
      "outputs": [
        {
          "output_type": "stream",
          "name": "stdout",
          "text": [
            "krishkrishkrishkrishkrishkrishkrishkrishkrishkrishkrishkrish\n"
          ]
        }
      ]
    },
    {
      "cell_type": "code",
      "source": [
        "#string lenght\n",
        "print(len(\"krish\"))"
      ],
      "metadata": {
        "colab": {
          "base_uri": "https://localhost:8080/"
        },
        "id": "f7ebNC4WSpYU",
        "outputId": "eef59ae0-407d-4ad3-c3b2-257ecbf71653"
      },
      "execution_count": null,
      "outputs": [
        {
          "output_type": "stream",
          "name": "stdout",
          "text": [
            "5\n"
          ]
        }
      ]
    },
    {
      "cell_type": "code",
      "source": [
        "#slicing\n",
        "print(\"Iron Man\"[2])\n",
        "print(\"Iron Man\"[3:6])\n"
      ],
      "metadata": {
        "colab": {
          "base_uri": "https://localhost:8080/"
        },
        "id": "PAyop3gQSutH",
        "outputId": "3185b753-7999-4cba-b5a2-6ca701da23ab"
      },
      "execution_count": null,
      "outputs": [
        {
          "output_type": "stream",
          "name": "stdout",
          "text": [
            "o\n",
            "n M\n"
          ]
        }
      ]
    },
    {
      "cell_type": "code",
      "source": [
        "#Case Convertion\n",
        "print(\"krish\".upper())\n",
        "print(\"KRISH\".lower())\n",
        "print(str.lower(\"KRISH\"))\n",
        "print(str.upper(\"krish\"))"
      ],
      "metadata": {
        "colab": {
          "base_uri": "https://localhost:8080/"
        },
        "id": "7BHF4NffS7Y2",
        "outputId": "ae45fa56-86f9-45ca-cfcb-a20f8ac259c0"
      },
      "execution_count": null,
      "outputs": [
        {
          "output_type": "stream",
          "name": "stdout",
          "text": [
            "KRISH\n",
            "krish\n",
            "krish\n",
            "KRISH\n"
          ]
        }
      ]
    },
    {
      "cell_type": "code",
      "source": [
        "#stripping = removes trailling and leading space .\n",
        "print(\"          HULK       \".strip())\n",
        "print(str.strip(\"         Tony Stark    \"))"
      ],
      "metadata": {
        "colab": {
          "base_uri": "https://localhost:8080/"
        },
        "id": "8hVuoUjpTMCN",
        "outputId": "d59b2aa3-43a7-44ec-e7cc-d2d8628661dc"
      },
      "execution_count": null,
      "outputs": [
        {
          "output_type": "stream",
          "name": "stdout",
          "text": [
            "HULK\n",
            "Tony Stark\n"
          ]
        }
      ]
    },
    {
      "cell_type": "code",
      "source": [
        "#Replace\n",
        "print(\"Tony Stark\".replace(\"Tony Stark\",\"Iron Man\"))\n",
        "print(str.replace(\"Tony Stark\",\"Tony Stark\",\"Iron Man\"))"
      ],
      "metadata": {
        "colab": {
          "base_uri": "https://localhost:8080/"
        },
        "id": "28I8Y6QdTyEe",
        "outputId": "b4e04f54-b068-4fc2-e072-5951742844df"
      },
      "execution_count": null,
      "outputs": [
        {
          "output_type": "stream",
          "name": "stdout",
          "text": [
            "Iron Man\n",
            "Iron Man\n"
          ]
        }
      ]
    },
    {
      "cell_type": "code",
      "source": [
        "#Find\n",
        "print(\"krish\".find(\"k\"))\n",
        "print(str.find(\"Tony Stark\",\"Stark\"))"
      ],
      "metadata": {
        "id": "DsejoxX9UNV3",
        "colab": {
          "base_uri": "https://localhost:8080/"
        },
        "outputId": "aeaf0f1a-5fa5-4a67-976f-3562a3be6c08"
      },
      "execution_count": 2,
      "outputs": [
        {
          "output_type": "stream",
          "name": "stdout",
          "text": [
            "0\n",
            "5\n"
          ]
        }
      ]
    },
    {
      "cell_type": "code",
      "source": [
        "#Check\n",
        "print(\"121\".isdigit())\n",
        "print(\"krish\".isalpha())\n",
        "print(\"krish\".islower())\n",
        "print(\"KRISH\".isupper())\n",
        "\n"
      ],
      "metadata": {
        "colab": {
          "base_uri": "https://localhost:8080/"
        },
        "id": "k6oEiZXvXp1Z",
        "outputId": "60ddf409-dda8-45f3-9288-6032e7ffcc9c"
      },
      "execution_count": 6,
      "outputs": [
        {
          "output_type": "stream",
          "name": "stdout",
          "text": [
            "True\n",
            "True\n",
            "True\n",
            "True\n"
          ]
        }
      ]
    },
    {
      "cell_type": "code",
      "source": [
        "#Capitalization\n",
        "print(\"krish\".capitalize())\n"
      ],
      "metadata": {
        "colab": {
          "base_uri": "https://localhost:8080/"
        },
        "id": "QDVE6o2WX6qc",
        "outputId": "921efb19-6476-4ffa-9b21-20d5d9d58c7f"
      },
      "execution_count": 7,
      "outputs": [
        {
          "output_type": "stream",
          "name": "stdout",
          "text": [
            "Krish\n"
          ]
        }
      ]
    },
    {
      "cell_type": "code",
      "source": [
        "#Title\n",
        "print(\"krish\".title())"
      ],
      "metadata": {
        "colab": {
          "base_uri": "https://localhost:8080/"
        },
        "id": "CTRHOUxZYZhg",
        "outputId": "760c35bc-4203-4744-b6ae-cd26994eaf49"
      },
      "execution_count": 8,
      "outputs": [
        {
          "output_type": "stream",
          "name": "stdout",
          "text": [
            "Krish\n"
          ]
        }
      ]
    },
    {
      "cell_type": "code",
      "source": [
        "#start and end\n",
        "print(\"Krish\".startswith(\"k\"))\n",
        "print(\"Krish\".endswith(\"h\"))"
      ],
      "metadata": {
        "colab": {
          "base_uri": "https://localhost:8080/"
        },
        "id": "yQF7yNOgYgl_",
        "outputId": "bc86e93f-009d-4423-9cc3-c4cf451a044c"
      },
      "execution_count": 11,
      "outputs": [
        {
          "output_type": "stream",
          "name": "stdout",
          "text": [
            "False\n",
            "True\n"
          ]
        }
      ]
    },
    {
      "cell_type": "code",
      "source": [
        "#Alignment\n",
        "print(\"krish\".center(23))\n",
        "print(\"krish\".ljust(2))\n",
        "print(\"krish\".rjust(20))"
      ],
      "metadata": {
        "colab": {
          "base_uri": "https://localhost:8080/"
        },
        "id": "xK9vPCLIYp7-",
        "outputId": "85a463cf-451e-4e3a-8bc7-ac8c3e0d3f5c"
      },
      "execution_count": 13,
      "outputs": [
        {
          "output_type": "stream",
          "name": "stdout",
          "text": [
            "         krish         \n",
            "krish\n",
            "               krish\n"
          ]
        }
      ]
    },
    {
      "cell_type": "code",
      "source": [],
      "metadata": {
        "id": "1wjVV0G9Y6sd"
      },
      "execution_count": null,
      "outputs": []
    }
  ]
}