{
  "nbformat": 4,
  "nbformat_minor": 0,
  "metadata": {
    "colab": {
      "provenance": []
    },
    "kernelspec": {
      "name": "python3",
      "display_name": "Python 3"
    },
    "language_info": {
      "name": "python"
    }
  },
  "cells": [
    {
      "cell_type": "markdown",
      "source": [
        "# TYPECASTING CONVERT DATATYPE INTO ANOTHER DATATYPE"
      ],
      "metadata": {
        "id": "f4nkfmKdPd70"
      }
    },
    {
      "cell_type": "code",
      "execution_count": 2,
      "metadata": {
        "id": "T8K_-rKsXX4S",
        "colab": {
          "base_uri": "https://localhost:8080/"
        },
        "outputId": "12a68936-59ea-4ee2-c75b-478fd889fd93"
      },
      "outputs": [
        {
          "output_type": "stream",
          "name": "stdout",
          "text": [
            "2\n",
            "3\n",
            "1\n"
          ]
        }
      ],
      "source": [
        "# int\n",
        "print(int(2.3))\n",
        "print(int(\"3\"))\n",
        "print(int(True))"
      ]
    },
    {
      "cell_type": "code",
      "source": [
        "#Float\n",
        "print(float(2))\n",
        "print(float(\"3.3\"))\n",
        "print(float(True))"
      ],
      "metadata": {
        "colab": {
          "base_uri": "https://localhost:8080/"
        },
        "id": "fISex3elP3iC",
        "outputId": "9b560853-9969-4888-e6ee-27689bb8a92d"
      },
      "execution_count": 3,
      "outputs": [
        {
          "output_type": "stream",
          "name": "stdout",
          "text": [
            "2.0\n",
            "3.3\n",
            "1.0\n"
          ]
        }
      ]
    },
    {
      "cell_type": "code",
      "source": [
        "#string\n",
        "print(str(2))\n",
        "print(str(2.22))\n",
        "print(str(True))\n",
        "\n",
        "print(type(str(2)))\n",
        "print(type(str(2.22)))\n",
        "print(type(str(True)))"
      ],
      "metadata": {
        "colab": {
          "base_uri": "https://localhost:8080/"
        },
        "id": "1xycXFCPQJuh",
        "outputId": "61a86cef-7a19-4598-bc1b-8ab298ba72a0"
      },
      "execution_count": 6,
      "outputs": [
        {
          "output_type": "stream",
          "name": "stdout",
          "text": [
            "2\n",
            "2.22\n",
            "True\n",
            "<class 'str'>\n",
            "<class 'str'>\n",
            "<class 'str'>\n"
          ]
        }
      ]
    },
    {
      "cell_type": "code",
      "source": [
        "#boolean  all cases convert everything to true only 0 and empty string is false and None\n",
        "print(bool(12))\n",
        "print(bool())\n",
        "print(bool(\"False\"))\n",
        "print(bool(12.2))\n",
        "print(bool(None))"
      ],
      "metadata": {
        "colab": {
          "base_uri": "https://localhost:8080/"
        },
        "id": "6AHnxSRlQUwi",
        "outputId": "bb31b9f5-d272-425f-c6c0-e9d13782c63a"
      },
      "execution_count": 11,
      "outputs": [
        {
          "output_type": "stream",
          "name": "stdout",
          "text": [
            "True\n",
            "False\n",
            "True\n",
            "True\n",
            "False\n"
          ]
        }
      ]
    },
    {
      "cell_type": "code",
      "source": [
        "#only one step process can be done\n",
        "\n",
        "#print(int(\"2.2\"))"
      ],
      "metadata": {
        "id": "90Ts1abmQ6Lm"
      },
      "execution_count": 13,
      "outputs": []
    },
    {
      "cell_type": "code",
      "source": [],
      "metadata": {
        "id": "rNghXyYRRwTk"
      },
      "execution_count": null,
      "outputs": []
    }
  ]
}