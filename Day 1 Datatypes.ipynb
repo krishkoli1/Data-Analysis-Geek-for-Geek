{
  "nbformat": 4,
  "nbformat_minor": 0,
  "metadata": {
    "colab": {
      "provenance": []
    },
    "kernelspec": {
      "name": "python3",
      "display_name": "Python 3"
    },
    "language_info": {
      "name": "python"
    }
  },
  "cells": [
    {
      "cell_type": "markdown",
      "source": [
        "INT"
      ],
      "metadata": {
        "id": "_8iWGGflwx8J"
      }
    },
    {
      "cell_type": "code",
      "source": [
        "print(1)\n",
        "print(-1)\n",
        "print(0)\n",
        "print(-1000)\n",
        "print(10)"
      ],
      "metadata": {
        "colab": {
          "base_uri": "https://localhost:8080/"
        },
        "id": "TMtfFhlm3_89",
        "outputId": "712a858b-4143-4a55-b8f6-b8981b9bccf2"
      },
      "execution_count": 8,
      "outputs": [
        {
          "output_type": "stream",
          "name": "stdout",
          "text": [
            "1\n",
            "-1\n",
            "0\n",
            "-1000\n",
            "10\n"
          ]
        }
      ]
    },
    {
      "cell_type": "markdown",
      "source": [
        "FLOAT"
      ],
      "metadata": {
        "id": "hg1hf0lS4mr5"
      }
    },
    {
      "cell_type": "code",
      "source": [
        "print(1.12)\n",
        "print(-1.121)\n",
        "print(00)\n",
        "print(-1000.223)\n",
        "print(10.1231)"
      ],
      "metadata": {
        "colab": {
          "base_uri": "https://localhost:8080/"
        },
        "id": "3BHU5VM84ChK",
        "outputId": "db4c5c2c-30a1-4169-d847-3064bbfca856"
      },
      "execution_count": 6,
      "outputs": [
        {
          "output_type": "stream",
          "name": "stdout",
          "text": [
            "1.12\n",
            "-1.121\n",
            "0\n",
            "-1000.223\n",
            "10.1231\n"
          ]
        }
      ]
    },
    {
      "cell_type": "markdown",
      "source": [
        "STRING"
      ],
      "metadata": {
        "id": "HDf5NWQo4xro"
      }
    },
    {
      "cell_type": "code",
      "source": [
        "print(\"apple\")\n",
        "print(\"A\")\n",
        "print(\"0\")\n",
        "print(type(\"0\"))"
      ],
      "metadata": {
        "colab": {
          "base_uri": "https://localhost:8080/"
        },
        "id": "y0tsl79-4EAT",
        "outputId": "f8f2dae4-2340-46f4-88cc-1990eda66156"
      },
      "execution_count": 10,
      "outputs": [
        {
          "output_type": "stream",
          "name": "stdout",
          "text": [
            "apple\n",
            "A\n",
            "0\n",
            "<class 'str'>\n"
          ]
        }
      ]
    },
    {
      "cell_type": "markdown",
      "source": [
        "boolean"
      ],
      "metadata": {
        "id": "p7TMPBPnFZ6g"
      }
    },
    {
      "cell_type": "code",
      "source": [
        "print(True)\n",
        "print(False)"
      ],
      "metadata": {
        "colab": {
          "base_uri": "https://localhost:8080/"
        },
        "id": "hb8Q93l14FvN",
        "outputId": "492fe74e-b502-4c6e-c801-5b663599f609"
      },
      "execution_count": 12,
      "outputs": [
        {
          "output_type": "stream",
          "name": "stdout",
          "text": [
            "True\n",
            "False\n"
          ]
        }
      ]
    },
    {
      "cell_type": "markdown",
      "source": [
        "Functionality of print"
      ],
      "metadata": {
        "id": "BnG7-XIZFqjX"
      }
    },
    {
      "cell_type": "code",
      "source": [
        "print(\"a\")\n",
        "print(\"b\")\n",
        "print(\"c\")\n",
        "\n",
        "print(\"a\", end=\" \")\n",
        "print(\"b\", end=\" \")\n",
        "print(\"c\")\n",
        "\n",
        "print(\"a\",\"b\",\"c\", sep=(\"*\"))"
      ],
      "metadata": {
        "colab": {
          "base_uri": "https://localhost:8080/"
        },
        "id": "7eo0TGFpFoje",
        "outputId": "3d01d38d-4208-4f16-cc77-bf9c6ce0e3f3"
      },
      "execution_count": 24,
      "outputs": [
        {
          "output_type": "stream",
          "name": "stdout",
          "text": [
            "a\n",
            "b\n",
            "c\n",
            "a b c\n",
            "a*b*c\n"
          ]
        }
      ]
    },
    {
      "cell_type": "code",
      "source": [],
      "metadata": {
        "id": "i7R5P4X2FhQV"
      },
      "execution_count": null,
      "outputs": []
    }
  ]
}