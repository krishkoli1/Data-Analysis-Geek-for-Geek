{
  "nbformat": 4,
  "nbformat_minor": 0,
  "metadata": {
    "colab": {
      "provenance": []
    },
    "kernelspec": {
      "name": "python3",
      "display_name": "Python 3"
    },
    "language_info": {
      "name": "python"
    }
  },
  "cells": [
    {
      "cell_type": "markdown",
      "source": [
        "# OPERATORS"
      ],
      "metadata": {
        "id": "U0K3_cugL8DC"
      }
    },
    {
      "cell_type": "markdown",
      "source": [
        "# **Arithmetic**"
      ],
      "metadata": {
        "id": "p0YSqmRUNvpX"
      }
    },
    {
      "cell_type": "code",
      "source": [
        "#Addition\n",
        "print(2+1)\n",
        "print(2.3+3.2)\n",
        "print(2.4+2)\n",
        "# print(2.3+\"3\") we dont add int and str\n",
        "print(True+True)\n",
        "print(True+False)\n",
        "print(False+False)\n",
        "print(\"krish\"+\"koli\")"
      ],
      "metadata": {
        "colab": {
          "base_uri": "https://localhost:8080/"
        },
        "id": "aPrExZskL-gF",
        "outputId": "fd4541e8-0f6c-497b-ba1c-a2c30489c04b"
      },
      "execution_count": 6,
      "outputs": [
        {
          "output_type": "stream",
          "name": "stdout",
          "text": [
            "3\n",
            "5.5\n",
            "4.4\n",
            "2\n",
            "1\n",
            "0\n",
            "krishkoli\n"
          ]
        }
      ]
    },
    {
      "cell_type": "code",
      "source": [
        "#Subtraction\n",
        "print(2-1)\n",
        "print(2.3-3.2)\n",
        "print(2.4-2)\n",
        "# print(2.3-\"3\") we dont add int and str\n",
        "print(True-True)\n",
        "print(True-False)\n",
        "print(False-False)\n",
        "#print(\"krish\"+\"koli\") we dont concatinate"
      ],
      "metadata": {
        "colab": {
          "base_uri": "https://localhost:8080/"
        },
        "id": "AWPFqm0nMCJH",
        "outputId": "1993a012-780a-4698-b97a-c81adde9c42e"
      },
      "execution_count": 7,
      "outputs": [
        {
          "output_type": "stream",
          "name": "stdout",
          "text": [
            "1\n",
            "-0.9000000000000004\n",
            "0.3999999999999999\n",
            "0\n",
            "1\n",
            "0\n"
          ]
        }
      ]
    },
    {
      "cell_type": "code",
      "source": [
        "#Multiplication\n",
        "print(2*2)\n",
        "print(2.3*3.2)\n",
        "print(2.4*2)\n"
      ],
      "metadata": {
        "colab": {
          "base_uri": "https://localhost:8080/"
        },
        "id": "_QOBALfcN3dz",
        "outputId": "9ec3c9bd-3244-4277-ab83-251aa3c9cbcb"
      },
      "execution_count": 8,
      "outputs": [
        {
          "output_type": "stream",
          "name": "stdout",
          "text": [
            "4\n",
            "7.359999999999999\n",
            "4.8\n"
          ]
        }
      ]
    },
    {
      "cell_type": "code",
      "source": [
        "#Division\n",
        "print(2/2)\n",
        "print(2.3/3.2)\n",
        "print(2.4/2)\n"
      ],
      "metadata": {
        "colab": {
          "base_uri": "https://localhost:8080/"
        },
        "id": "3tvt96VBOQt0",
        "outputId": "e6996477-bae0-4004-acce-2305fd37b096"
      },
      "execution_count": 9,
      "outputs": [
        {
          "output_type": "stream",
          "name": "stdout",
          "text": [
            "1.0\n",
            "0.7187499999999999\n",
            "1.2\n"
          ]
        }
      ]
    },
    {
      "cell_type": "code",
      "source": [
        "#Floor Division = It give you Quotient\n",
        "print(2//2)\n",
        "print(2.3//3.2)\n",
        "print(2.4//2)"
      ],
      "metadata": {
        "colab": {
          "base_uri": "https://localhost:8080/"
        },
        "id": "z87nYNGzOWsJ",
        "outputId": "49d885af-2a5d-46ab-893f-666461a22062"
      },
      "execution_count": 10,
      "outputs": [
        {
          "output_type": "stream",
          "name": "stdout",
          "text": [
            "1\n",
            "0.0\n",
            "1.0\n"
          ]
        }
      ]
    },
    {
      "cell_type": "code",
      "source": [
        "#Modules % = It give you reminder\n",
        "print(2%2)\n",
        "print(2.3%3.2)\n",
        "print(2.4%2)\n"
      ],
      "metadata": {
        "colab": {
          "base_uri": "https://localhost:8080/"
        },
        "id": "z4HY3VFCOk8D",
        "outputId": "6d681430-fb60-4f3b-9e8d-ae071fc5e674"
      },
      "execution_count": 12,
      "outputs": [
        {
          "output_type": "stream",
          "name": "stdout",
          "text": [
            "0\n",
            "2.3\n",
            "0.3999999999999999\n"
          ]
        }
      ]
    },
    {
      "cell_type": "code",
      "source": [
        "#Expnentation = power (**)\n",
        "print(2**2)\n",
        "print(2.3**3.2)\n",
        "print(2.4**2)"
      ],
      "metadata": {
        "colab": {
          "base_uri": "https://localhost:8080/"
        },
        "id": "wy55Yf50Ovp0",
        "outputId": "c741b675-928f-4f46-9078-ef31f48aaa24"
      },
      "execution_count": 13,
      "outputs": [
        {
          "output_type": "stream",
          "name": "stdout",
          "text": [
            "4\n",
            "14.372392707920499\n",
            "5.76\n"
          ]
        }
      ]
    },
    {
      "cell_type": "code",
      "source": [
        "#Abs = convert negative values to postivie\n",
        "print(abs(-2))\n",
        "print(abs(-2.3))"
      ],
      "metadata": {
        "colab": {
          "base_uri": "https://localhost:8080/"
        },
        "id": "cuGRnlxeO8QL",
        "outputId": "8c7bfd81-024b-47e4-ae67-ab2b44ea7d53"
      },
      "execution_count": 17,
      "outputs": [
        {
          "output_type": "stream",
          "name": "stdout",
          "text": [
            "2\n",
            "2.3\n"
          ]
        }
      ]
    },
    {
      "cell_type": "code",
      "source": [
        "#Round = round of number\n",
        "print(round(2.3))\n",
        "print(round(2.4122131,3))"
      ],
      "metadata": {
        "colab": {
          "base_uri": "https://localhost:8080/"
        },
        "id": "4T4BlPcyPWZu",
        "outputId": "8fba861b-e8d8-4ef4-eb98-41492b2aec83"
      },
      "execution_count": 19,
      "outputs": [
        {
          "output_type": "stream",
          "name": "stdout",
          "text": [
            "2\n",
            "2.412\n"
          ]
        }
      ]
    },
    {
      "cell_type": "code",
      "source": [
        "#Power = use for power\n",
        "print(pow(2,3))\n",
        "print(pow(2.3,3.2))"
      ],
      "metadata": {
        "colab": {
          "base_uri": "https://localhost:8080/"
        },
        "id": "H2jEM6CZPoWg",
        "outputId": "eb9a5269-2c96-460a-f235-2f277caf1eeb"
      },
      "execution_count": 20,
      "outputs": [
        {
          "output_type": "stream",
          "name": "stdout",
          "text": [
            "8\n",
            "14.372392707920499\n"
          ]
        }
      ]
    },
    {
      "cell_type": "markdown",
      "source": [
        "# Comparision Operator"
      ],
      "metadata": {
        "id": "vqfZO7MHP93F"
      }
    },
    {
      "cell_type": "code",
      "source": [
        "# == equal\n",
        "print(2==1)\n",
        "print(2.0==2)\n",
        "#print(\"A\"==\"a\") error\n",
        "print(True==0)"
      ],
      "metadata": {
        "colab": {
          "base_uri": "https://localhost:8080/"
        },
        "id": "hDQ71hj3P7y6",
        "outputId": "684b9300-8290-4f40-f957-b925570dbbb0"
      },
      "execution_count": 22,
      "outputs": [
        {
          "output_type": "stream",
          "name": "stdout",
          "text": [
            "False\n",
            "True\n",
            "False\n"
          ]
        }
      ]
    },
    {
      "cell_type": "code",
      "source": [
        "#!= not equal\n",
        "print(2!=1)\n",
        "print(2.0!=2)\n",
        "print(\"A\"!=\"a\")\n",
        "print(True!=0)\n",
        "#"
      ],
      "metadata": {
        "colab": {
          "base_uri": "https://localhost:8080/"
        },
        "id": "py0lf9CVQLFK",
        "outputId": "6346bfa8-5497-4e38-a2b0-df56a422460a"
      },
      "execution_count": 23,
      "outputs": [
        {
          "output_type": "stream",
          "name": "stdout",
          "text": [
            "True\n",
            "False\n",
            "True\n",
            "True\n"
          ]
        }
      ]
    },
    {
      "cell_type": "code",
      "source": [
        "#> greater than\n",
        "print(2>1)\n",
        "print(2.0>2)\n",
        "#print(\"A\">\"a\") error\n",
        "print(True>0)"
      ],
      "metadata": {
        "colab": {
          "base_uri": "https://localhost:8080/"
        },
        "id": "r8JR7WvAQ64e",
        "outputId": "4bc68db5-aa7e-40bc-d6dc-e97b88f7d51e"
      },
      "execution_count": 25,
      "outputs": [
        {
          "output_type": "stream",
          "name": "stdout",
          "text": [
            "True\n",
            "False\n",
            "True\n"
          ]
        }
      ]
    },
    {
      "cell_type": "code",
      "source": [
        "#< less than\n",
        "print(2<1)\n",
        "print(2.0<2)\n",
        "#print(\"A\"<\"a\") error\n",
        "print(True<0)"
      ],
      "metadata": {
        "colab": {
          "base_uri": "https://localhost:8080/"
        },
        "id": "nuC0hBT3UVI9",
        "outputId": "62c23db7-7ea4-4cce-eeed-623532c2ea40"
      },
      "execution_count": 26,
      "outputs": [
        {
          "output_type": "stream",
          "name": "stdout",
          "text": [
            "False\n",
            "False\n",
            "False\n"
          ]
        }
      ]
    },
    {
      "cell_type": "code",
      "source": [
        "#<= less than equal to\n",
        "print(2<=1)\n",
        "print(2.0<=2)\n",
        "print(True<=0)\n"
      ],
      "metadata": {
        "colab": {
          "base_uri": "https://localhost:8080/"
        },
        "id": "OlZQmcQcUdFj",
        "outputId": "8fa27174-94bd-4c0e-e081-56261bf26592"
      },
      "execution_count": 27,
      "outputs": [
        {
          "output_type": "stream",
          "name": "stdout",
          "text": [
            "False\n",
            "True\n",
            "False\n"
          ]
        }
      ]
    },
    {
      "cell_type": "code",
      "source": [
        "#>= greater than equal to\n",
        "print(2>=1)\n",
        "print(2.0>=2)\n",
        "print(True>=0)\n"
      ],
      "metadata": {
        "colab": {
          "base_uri": "https://localhost:8080/"
        },
        "id": "WJJjeeRFUprS",
        "outputId": "82675f12-acf2-4656-b420-932599774f1f"
      },
      "execution_count": 28,
      "outputs": [
        {
          "output_type": "stream",
          "name": "stdout",
          "text": [
            "True\n",
            "True\n",
            "True\n"
          ]
        }
      ]
    },
    {
      "cell_type": "markdown",
      "source": [
        "# Logical Opertor"
      ],
      "metadata": {
        "id": "qtj2noYvUyK4"
      }
    },
    {
      "cell_type": "code",
      "source": [
        "# AND Operator = both condtion is true than only true otherwise false (&)\n",
        "print(True and True)\n",
        "print(True and False)\n",
        "print(False and False)\n",
        "print(True & True)"
      ],
      "metadata": {
        "colab": {
          "base_uri": "https://localhost:8080/"
        },
        "id": "CWFerQ3GUxt4",
        "outputId": "5d594e43-ce2b-46f1-ab21-62f129081787"
      },
      "execution_count": 30,
      "outputs": [
        {
          "output_type": "stream",
          "name": "stdout",
          "text": [
            "True\n",
            "False\n",
            "False\n",
            "True\n"
          ]
        }
      ]
    },
    {
      "cell_type": "code",
      "source": [
        "# OR Operator = we need only one condition true (|)\n",
        "print(True or True)\n",
        "print(False or True)\n",
        "print(False or False)\n",
        "print(True | True)"
      ],
      "metadata": {
        "colab": {
          "base_uri": "https://localhost:8080/"
        },
        "id": "bZ9Ow4fRUwMk",
        "outputId": "ea859db4-2f7d-4336-c41b-8cf8ed6d0c1c"
      },
      "execution_count": 31,
      "outputs": [
        {
          "output_type": "stream",
          "name": "stdout",
          "text": [
            "True\n",
            "True\n",
            "False\n",
            "True\n"
          ]
        }
      ]
    },
    {
      "cell_type": "code",
      "source": [
        "# Not True operator = convert True to False and False to True\n",
        "print(not True)\n",
        "print(not False)"
      ],
      "metadata": {
        "colab": {
          "base_uri": "https://localhost:8080/"
        },
        "id": "C14mn9efVnmS",
        "outputId": "8dc2b0b1-0928-484c-e004-995426cab59d"
      },
      "execution_count": 32,
      "outputs": [
        {
          "output_type": "stream",
          "name": "stdout",
          "text": [
            "False\n",
            "True\n"
          ]
        }
      ]
    },
    {
      "cell_type": "code",
      "source": [],
      "metadata": {
        "id": "mjsaPc94V4gU"
      },
      "execution_count": null,
      "outputs": []
    }
  ]
}